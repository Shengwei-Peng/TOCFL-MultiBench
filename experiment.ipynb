{
 "cells": [
  {
   "cell_type": "markdown",
   "metadata": {},
   "source": [
    "# 🏆 Leaderboard\n",
    "\n",
    "| Model            | Model name                               | Dataset name    | Tensor type | Model size | Accuracy |\n",
    "| ---------------- | ---------------------------------------- | --------------- |:-----------:| ----------:| --------:|\n",
    "| LLaVA-v1.5       | llava-hf/llava-1.5-7b-hf                 | m-a-p/CII-Bench |    FP16     |      7.06B |   20.78% |\n",
    "| LLaVA-NeXT       | llava-hf/llava-v1.6-mistral-7b-hf        | m-a-p/CII-Bench |    FP16     |      7.57B |   27.97% |\n",
    "| Llama 3.2-Vision | meta-llama/Llama-3.2-11B-Vision-Instruct | m-a-p/CII-Bench |    BF16     |     10.67B |   30.72% |\n",
    "| Qwen2-VL         | Qwen/Qwen2-VL-7B-Instruct                | m-a-p/CII-Bench |    BF16     |      8.29B |   41.83% |"
   ]
  },
  {
   "cell_type": "code",
   "execution_count": null,
   "metadata": {},
   "outputs": [],
   "source": [
    "from src import MultimodalSystem\n",
    "\n",
    "system = MultimodalSystem(\n",
    "    model_name_or_path=\"llava-hf/llava-1.5-7b-hf\", \n",
    "    dataset_name_or_path=\"m-a-p/CII-Bench\",\n",
    ")"
   ]
  },
  {
   "cell_type": "code",
   "execution_count": null,
   "metadata": {},
   "outputs": [],
   "source": [
    "accuracy = system.evaluate(batch_size=1)\n",
    "print(f\"Accuracy: {accuracy * 100:.2f}%\")"
   ]
  }
 ],
 "metadata": {
  "kernelspec": {
   "display_name": "adl",
   "language": "python",
   "name": "python3"
  },
  "language_info": {
   "codemirror_mode": {
    "name": "ipython",
    "version": 3
   },
   "file_extension": ".py",
   "mimetype": "text/x-python",
   "name": "python",
   "nbconvert_exporter": "python",
   "pygments_lexer": "ipython3",
   "version": "3.12.7"
  }
 },
 "nbformat": 4,
 "nbformat_minor": 2
}
